{
 "cells": [
  {
   "cell_type": "markdown",
   "id": "6fdc66e1",
   "metadata": {},
   "source": []
  },
  {
   "cell_type": "markdown",
   "id": "dfffdfee",
   "metadata": {},
   "source": [
    "We will use Scikit learn library to classify digits using Logistic Regression."
   ]
  },
  {
   "cell_type": "code",
   "execution_count": 2,
   "id": "1479b22b",
   "metadata": {},
   "outputs": [],
   "source": [
    "from sklearn.datasets import load_digits\n",
    "from sklearn.model_selection import train_test_split\n",
    "from sklearn.linear_model import LogisticRegression\n",
    "import numpy as np\n",
    "import matplotlib.pyplot as  plt\n",
    "import seaborn as sns\n",
    "from sklearn import metrics\n",
    "import re\n",
    "%matplotlib inline"
   ]
  },
  {
   "cell_type": "markdown",
   "id": "72f8cf1b",
   "metadata": {},
   "source": [
    "## Loading Data"
   ]
  },
  {
   "cell_type": "code",
   "execution_count": 3,
   "id": "50589506",
   "metadata": {},
   "outputs": [
    {
     "data": {
      "text/plain": [
       "sklearn.utils.Bunch"
      ]
     },
     "execution_count": 3,
     "metadata": {},
     "output_type": "execute_result"
    }
   ],
   "source": [
    "digits = load_digits()\n",
    "type(digits)"
   ]
  },
  {
   "cell_type": "code",
   "execution_count": 4,
   "id": "3a082e20",
   "metadata": {},
   "outputs": [
    {
     "name": "stdout",
     "output_type": "stream",
     "text": [
      "Feature Set Size: (1797, 64)\n",
      "Label Set Size: (1797,)\n"
     ]
    },
    {
     "data": {
      "text/plain": [
       "numpy.ndarray"
      ]
     },
     "execution_count": 4,
     "metadata": {},
     "output_type": "execute_result"
    }
   ],
   "source": [
    "print(\"Feature Set Size:\", digits.data.shape)\n",
    "print(\"Label Set Size:\", digits.target.shape)\n",
    "type(digits.data)"
   ]
  },
  {
   "cell_type": "code",
   "execution_count": 6,
   "id": "3436eeb9",
   "metadata": {},
   "outputs": [
    {
     "data": {
      "image/png": "[encoded data removed]",
      "text/plain": [
       "<Figure size 640x480 with 5 Axes>"
      ]
     },
     "metadata": {},
     "output_type": "display_data"
    }
   ],
   "source": [
    "for index,(image,label) in enumerate (zip(digits.data[0:5], digits.target[0:5])):\n",
    "    plt.subplot(1, 5, index+1)\n",
    "    plt.imshow(np.reshape(image,(8,8)), cmap=plt.cm.gray)\n",
    "    #plt.title('Training Image: \\n', index)"
   ]
  },
  {
   "cell_type": "markdown",
   "id": "508fc9f0",
   "metadata": {},
   "source": [
    "## Splitting Dataset\n",
    "- as dataset is simple, we are not using Cross_validation Set"
   ]
  },
  {
   "cell_type": "code",
   "execution_count": 7,
   "id": "cfe7669c",
   "metadata": {},
   "outputs": [],
   "source": [
    "tr_x,te_x,tr_y,te_y = train_test_split(digits.data,digits.target, test_size=0.3, random_state=33)"
   ]
  },
  {
   "cell_type": "code",
   "execution_count": 8,
   "id": "f6b16849",
   "metadata": {},
   "outputs": [
    {
     "name": "stdout",
     "output_type": "stream",
     "text": [
      "Shape: (1797, 64)\n",
      "Shape: (1257, 64)\n",
      "Shape: (540, 64)\n"
     ]
    }
   ],
   "source": [
    "for x in (digits.data,tr_x,te_x):\n",
    "    print(\"Shape:\",x.shape)"
   ]
  },
  {
   "cell_type": "markdown",
   "id": "a65549fb",
   "metadata": {},
   "source": [
    "## Creating a Logistic regression Model"
   ]
  },
  {
   "cell_type": "code",
   "execution_count": 9,
   "id": "37f65f19",
   "metadata": {},
   "outputs": [
    {
     "data": {
      "text/plain": [
       "LogisticRegression(max_iter=10000)"
      ]
     },
     "execution_count": 9,
     "metadata": {},
     "output_type": "execute_result"
    }
   ],
   "source": [
    "lg = LogisticRegression(solver='lbfgs', max_iter=10000)\n",
    "# Because of lbfgs failed to converge (status=1): STOP: TOTAL NO. of ITERATIONS REACHED LIMIT.\n",
    "lg.fit(tr_x,tr_y)"
   ]
  },
  {
   "cell_type": "markdown",
   "id": "d40f419f",
   "metadata": {},
   "source": [
    "## Evaluating Model"
   ]
  },
  {
   "cell_type": "code",
   "execution_count": 10,
   "id": "2d6c1ea9",
   "metadata": {},
   "outputs": [],
   "source": [
    "Predictions = lg.predict(te_x)"
   ]
  },
  {
   "cell_type": "code",
   "execution_count": 11,
   "id": "00ad827d",
   "metadata": {},
   "outputs": [
    {
     "name": "stdout",
     "output_type": "stream",
     "text": [
      "0.9611111111111111\n"
     ]
    }
   ],
   "source": [
    "accuracy = lg.score(te_x,te_y)\n",
    "print(accuracy)"
   ]
  },
  {
   "cell_type": "markdown",
   "id": "1869f077",
   "metadata": {},
   "source": [
    "## visualization"
   ]
  },
  {
   "cell_type": "code",
   "execution_count": 12,
   "id": "f27d2b54",
   "metadata": {},
   "outputs": [
    {
     "name": "stdout",
     "output_type": "stream",
     "text": [
      "No. of missed predictions: 21\n"
     ]
    }
   ],
   "source": [
    "index=0\n",
    "correct = []\n",
    "missed = []\n",
    "for predict,actual in zip(Predictions,te_y):\n",
    "    if predict==actual:\n",
    "        correct.append(index)\n",
    "    else:\n",
    "        missed.append(index)\n",
    "    index+=1\n",
    "\n",
    "print(\"No. of missed predictions:\", len(missed))"
   ]
  },
  {
   "cell_type": "code",
   "execution_count": 16,
   "id": "d66794a4",
   "metadata": {},
   "outputs": [
    {
     "data": {
      "image/png": "[encoded data removed]",
      "text/plain": [
       "<Figure size 2000x300 with 5 Axes>"
      ]
     },
     "metadata": {},
     "output_type": "display_data"
    }
   ],
   "source": [
    "plt.figure(figsize=(20,3))\n",
    "index=0\n",
    "for index, wrong in enumerate(missed[0:5]):\n",
    "    plt.subplot(1,5,index+1)\n",
    "    plt.imshow(np.reshape(te_x[wrong],(8,8)),cmap=plt.cm.gray)\n",
    "    plt.title(\"Predicted:{} Actual: {}\".format(Predictions[wrong],te_y[wrong]), fontsize=10)"
   ]
  },
  {
   "cell_type": "code",
   "execution_count": null,
   "id": "cc0614be",
   "metadata": {},
   "outputs": [],
   "source": []
  },
  {
   "cell_type": "code",
   "execution_count": null,
   "id": "534122e1",
   "metadata": {},
   "outputs": [],
   "source": []
  },
  {
   "cell_type": "code",
   "execution_count": null,
   "id": "f45ab5c5",
   "metadata": {},
   "outputs": [],
   "source": []
  }
 ],
 "metadata": {
  "kernelspec": {
   "display_name": "Python 3 (ipykernel)",
   "language": "python",
   "name": "python3"
  },
  "language_info": {
   "codemirror_mode": {
    "name": "ipython",
    "version": 3
   },
   "file_extension": ".py",
   "mimetype": "text/x-python",
   "name": "python",
   "nbconvert_exporter": "python",
   "pygments_lexer": "ipython3",
   "version": "3.9.13"
  }
 },
 "nbformat": 4,
 "nbformat_minor": 5
}
